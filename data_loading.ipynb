{
  "nbformat": 4,
  "nbformat_minor": 0,
  "metadata": {
    "colab": {
      "name": "data loading.ipynb",
      "provenance": [],
      "collapsed_sections": [],
      "mount_file_id": "1WLcmnRghKl_nGpWBdYw21v_g9lNHyIQQ",
      "authorship_tag": "ABX9TyO8d3PxLdYWBRYuUbTV3sYP",
      "include_colab_link": true
    },
    "kernelspec": {
      "name": "python3",
      "display_name": "Python 3"
    },
    "language_info": {
      "name": "python"
    }
  },
  "cells": [
    {
      "cell_type": "markdown",
      "metadata": {
        "id": "view-in-github",
        "colab_type": "text"
      },
      "source": [
        "<a href=\"https://colab.research.google.com/github/changyui/changyui/blob/main/data_loading.ipynb\" target=\"_parent\"><img src=\"https://colab.research.google.com/assets/colab-badge.svg\" alt=\"Open In Colab\"/></a>"
      ]
    },
    {
      "cell_type": "code",
      "source": [
        "# 데이터셋은 피클 형태(파이썬 원시 변수 저장 형태) 이므로 Load 하는 방법 숙지\n",
        "# 피클 X_400_5의 데이터는 플로우 앞 5개의 패킷이 함께 묶여있으며 각 패킷 앞 400bytes를 포함 (Load 후 shape 출력하고 확인)\n",
        "# 각 모델의 입력은 단일입력이므로 2차원 형태어야하지만 데이터셋은 3차원임(플로우이므로.) 고로 차원을 줄이는 작업이 필요"
      ],
      "metadata": {
        "id": "Q2qRyZq4h7p3"
      },
      "execution_count": null,
      "outputs": []
    },
    {
      "cell_type": "code",
      "execution_count": null,
      "metadata": {
        "id": "3XdF3J5cc0Qn"
      },
      "outputs": [],
      "source": [
        "import pickle\n",
        "import pandas as pd"
      ]
    },
    {
      "cell_type": "code",
      "source": [
        "with open('/content/drive/MyDrive/Colab Notebooks/NMlab/400_5_X.pickle', 'rb') as f:   \n",
        "    dfx = pickle.load(f)"
      ],
      "metadata": {
        "id": "ENco_bzmdwXD"
      },
      "execution_count": null,
      "outputs": []
    },
    {
      "cell_type": "code",
      "source": [
        "with open('/content/drive/MyDrive/Colab Notebooks/NMlab/400_5_Y.pickle', 'rb') as g:   \n",
        "    dfy = pickle.load(g)"
      ],
      "metadata": {
        "id": "4WaA5wALmjEp"
      },
      "execution_count": null,
      "outputs": []
    },
    {
      "cell_type": "code",
      "source": [
        "dfx[100]"
      ],
      "metadata": {
        "colab": {
          "base_uri": "https://localhost:8080/"
        },
        "id": "C0u7F4ZMgyBP",
        "outputId": "1c88f51b-69ab-4f2d-afce-5737d49d079f"
      },
      "execution_count": null,
      "outputs": [
        {
          "output_type": "execute_result",
          "data": {
            "text/plain": [
              "array([[[0.2705 ],\n",
              "        [0.     ],\n",
              "        [0.     ],\n",
              "        ...,\n",
              "        [0.     ],\n",
              "        [0.     ],\n",
              "        [0.     ]],\n",
              "\n",
              "       [[0.2705 ],\n",
              "        [0.     ],\n",
              "        [0.     ],\n",
              "        ...,\n",
              "        [0.     ],\n",
              "        [0.     ],\n",
              "        [0.     ]],\n",
              "\n",
              "       [[0.2705 ],\n",
              "        [0.     ],\n",
              "        [0.     ],\n",
              "        ...,\n",
              "        [0.     ],\n",
              "        [0.     ],\n",
              "        [0.     ]],\n",
              "\n",
              "       [[0.2705 ],\n",
              "        [0.     ],\n",
              "        [0.00784],\n",
              "        ...,\n",
              "        [0.4666 ],\n",
              "        [0.7803 ],\n",
              "        [0.541  ]],\n",
              "\n",
              "       [[0.2705 ],\n",
              "        [0.     ],\n",
              "        [0.     ],\n",
              "        ...,\n",
              "        [0.     ],\n",
              "        [0.     ],\n",
              "        [0.     ]]], dtype=float16)"
            ]
          },
          "metadata": {},
          "execution_count": 67
        }
      ]
    },
    {
      "cell_type": "code",
      "source": [
        "dfy[100]"
      ],
      "metadata": {
        "colab": {
          "base_uri": "https://localhost:8080/"
        },
        "id": "btm-0l1wmvRV",
        "outputId": "f2355d57-56ba-415d-8f79-948d9d35f2e2"
      },
      "execution_count": null,
      "outputs": [
        {
          "output_type": "execute_result",
          "data": {
            "text/plain": [
              "array([1., 0., 0., 0., 0., 0.], dtype=float32)"
            ]
          },
          "metadata": {},
          "execution_count": 68
        }
      ]
    },
    {
      "cell_type": "code",
      "source": [
        "dfx.shape"
      ],
      "metadata": {
        "colab": {
          "base_uri": "https://localhost:8080/"
        },
        "id": "XZnDfQyJg9ZE",
        "outputId": "ec6697cd-05e8-4a10-e476-29191e84577e"
      },
      "execution_count": null,
      "outputs": [
        {
          "output_type": "execute_result",
          "data": {
            "text/plain": [
              "(27811, 5, 400, 1)"
            ]
          },
          "metadata": {},
          "execution_count": 69
        }
      ]
    },
    {
      "cell_type": "code",
      "source": [
        "dfy.shape"
      ],
      "metadata": {
        "colab": {
          "base_uri": "https://localhost:8080/"
        },
        "id": "Byfe_34WmzZd",
        "outputId": "54c235b9-da6d-4c11-f2c4-0d3fb6022422"
      },
      "execution_count": null,
      "outputs": [
        {
          "output_type": "execute_result",
          "data": {
            "text/plain": [
              "(27811, 6)"
            ]
          },
          "metadata": {},
          "execution_count": 70
        }
      ]
    },
    {
      "cell_type": "code",
      "source": [
        "# dfx = dfx[:,0,:,:]\n",
        "# dfx.shape"
      ],
      "metadata": {
        "colab": {
          "base_uri": "https://localhost:8080/"
        },
        "id": "fCOoxX3wLJpt",
        "outputId": "14ade962-bbd8-4f90-e8ab-40a8cfc01b0f"
      },
      "execution_count": null,
      "outputs": [
        {
          "output_type": "execute_result",
          "data": {
            "text/plain": [
              "(27811, 400, 1)"
            ]
          },
          "metadata": {},
          "execution_count": 54
        }
      ]
    },
    {
      "cell_type": "code",
      "source": [
        "dfx1 = df.reshape(-1,40,50,1)"
      ],
      "metadata": {
        "id": "DOZTPTdrkgVM"
      },
      "execution_count": null,
      "outputs": []
    },
    {
      "cell_type": "code",
      "source": [
        "dfx1.shape"
      ],
      "metadata": {
        "colab": {
          "base_uri": "https://localhost:8080/"
        },
        "id": "BdP9dvfUksj8",
        "outputId": "65df8ac4-1914-498a-dc20-7ca48f41ea9c"
      },
      "execution_count": null,
      "outputs": [
        {
          "output_type": "execute_result",
          "data": {
            "text/plain": [
              "(27811, 40, 50, 1)"
            ]
          },
          "metadata": {},
          "execution_count": 72
        }
      ]
    },
    {
      "cell_type": "code",
      "source": [
        "dfx1[100]"
      ],
      "metadata": {
        "colab": {
          "base_uri": "https://localhost:8080/"
        },
        "id": "efY6DLapkuuC",
        "outputId": "7521c714-e378-4f10-e631-9c939153057c"
      },
      "execution_count": null,
      "outputs": [
        {
          "output_type": "execute_result",
          "data": {
            "text/plain": [
              "array([[[0.2705],\n",
              "        [0.    ],\n",
              "        [0.    ],\n",
              "        ...,\n",
              "        [0.0392],\n",
              "        [0.    ],\n",
              "        [0.3647]],\n",
              "\n",
              "       [[0.533 ],\n",
              "        [0.6626],\n",
              "        [0.    ],\n",
              "        ...,\n",
              "        [0.    ],\n",
              "        [0.    ],\n",
              "        [0.    ]],\n",
              "\n",
              "       [[0.    ],\n",
              "        [0.    ],\n",
              "        [0.    ],\n",
              "        ...,\n",
              "        [0.    ],\n",
              "        [0.    ],\n",
              "        [0.    ]],\n",
              "\n",
              "       ...,\n",
              "\n",
              "       [[0.    ],\n",
              "        [0.    ],\n",
              "        [0.    ],\n",
              "        ...,\n",
              "        [0.    ],\n",
              "        [0.    ],\n",
              "        [0.    ]],\n",
              "\n",
              "       [[0.    ],\n",
              "        [0.    ],\n",
              "        [0.    ],\n",
              "        ...,\n",
              "        [0.    ],\n",
              "        [0.    ],\n",
              "        [0.    ]],\n",
              "\n",
              "       [[0.    ],\n",
              "        [0.    ],\n",
              "        [0.    ],\n",
              "        ...,\n",
              "        [0.    ],\n",
              "        [0.    ],\n",
              "        [0.    ]]], dtype=float16)"
            ]
          },
          "metadata": {},
          "execution_count": 73
        }
      ]
    },
    {
      "cell_type": "code",
      "source": [
        "from keras import models, layers\n",
        "from keras import Input\n",
        "from keras.models import Model, load_model\n",
        "from keras.preprocessing.image import ImageDataGenerator\n",
        "from keras import optimizers, initializers, regularizers, metrics\n",
        "from keras.callbacks import ModelCheckpoint, EarlyStopping\n",
        "from keras.layers import BatchNormalization, Conv2D, Activation, Dense, GlobalAveragePooling2D, MaxPooling2D, ZeroPadding2D, Add\n",
        " \n",
        "import os\n",
        "import matplotlib.pyplot as plt\n",
        "import numpy as np\n",
        "import math\n",
        "\n",
        "from tensorflow.keras.applications.resnet50 import ResNet50"
      ],
      "metadata": {
        "id": "iwcg0xL6lCdO"
      },
      "execution_count": null,
      "outputs": []
    },
    {
      "cell_type": "code",
      "source": [
        "model = ResNet50(include_top=True, weights=None, input_shape=(40,50,1), pooling=max, classes=6)"
      ],
      "metadata": {
        "id": "N5Xai9GSuCHS"
      },
      "execution_count": null,
      "outputs": []
    },
    {
      "cell_type": "markdown",
      "source": [
        "** 코멘트 **\n",
        "\n",
        "(?, 5, 400, 1)\n",
        "\n",
        "(5,400,1)\n",
        "\n",
        "(400,1)[0] (20,20,1)\n",
        "(400,1)[1]\n",
        "(400,1)[2]\n",
        "(400,1)[3]\n",
        "(400,1)[4]\n",
        "\n",
        "\n",
        "(2000,1)\n",
        "\n",
        "(40,50,1)\n",
        "\n",
        "a = Input(input_shape((?, 5, 400, 1)))\n",
        "a = reshape(?,5,20,20,1)(a)\n",
        "\n",
        "b = resmet50(input_shape=(20,20,1))(a[:,0])"
      ],
      "metadata": {
        "id": "YMYgWV6QMLyb"
      }
    },
    {
      "cell_type": "code",
      "source": [
        "# train_images = dfx1\n",
        "# train_labels = dfy\n",
        "\n",
        "x = dfx1\n",
        "y = dfy\n",
        "\n",
        "# 훈련데이터 세트 분할\n",
        "from sklearn.model_selection import train_test_split\n",
        "train_images, valid_images, train_labels, valid_labels = train_test_split(x, y, stratify=y, test_size=0.2, random_state=42)"
      ],
      "metadata": {
        "id": "RbOnqTkzgJrT"
      },
      "execution_count": null,
      "outputs": []
    },
    {
      "cell_type": "code",
      "source": [
        "model.compile(loss='categorical_crossentropy', metrics=['accuracy'], optimizer='adam') \n",
        "model.fit(train_images, train_labels, batch_size=64, epochs=10, validation_data=(valid_images, valid_labels))"
      ],
      "metadata": {
        "colab": {
          "base_uri": "https://localhost:8080/"
        },
        "id": "yEy6jmjnMPeu",
        "outputId": "db6bc601-d167-4c61-86ba-8b1865cac884"
      },
      "execution_count": null,
      "outputs": [
        {
          "output_type": "stream",
          "name": "stdout",
          "text": [
            "Epoch 1/10\n",
            "348/348 [==============================] - 2973s 9s/step - loss: 1.1878 - accuracy: 0.6032 - val_loss: 1.3411 - val_accuracy: 0.5432\n",
            "Epoch 2/10\n",
            "280/348 [=======================>......] - ETA: 9:36 - loss: 0.9261 - accuracy: 0.6464"
          ]
        }
      ]
    },
    {
      "cell_type": "code",
      "source": [
        "from google.colab import drive\n",
        "drive.mount('/content/drive')"
      ],
      "metadata": {
        "id": "7dz745kaixDk",
        "outputId": "8952b3be-97f3-4d7b-9a85-ce84d990bf81",
        "colab": {
          "base_uri": "https://localhost:8080/"
        }
      },
      "execution_count": null,
      "outputs": [
        {
          "output_type": "stream",
          "name": "stdout",
          "text": [
            "Drive already mounted at /content/drive; to attempt to forcibly remount, call drive.mount(\"/content/drive\", force_remount=True).\n"
          ]
        }
      ]
    }
  ]
}